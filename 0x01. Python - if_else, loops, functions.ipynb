{
 "cells": [
  {
   "cell_type": "markdown",
   "metadata": {},
   "source": [
    "# __0x01. Python - if/else, loops, functions__"
   ]
  },
  {
   "cell_type": "markdown",
   "metadata": {},
   "source": [
    "### __Resources__\n",
    "\n",
    "__Read or watch:__\n",
    "\n",
    "+ [__More Control Flow Tools__](https://intranet.alxswe.com/rltoken/jpjs5EnZTpBLLEremJYjPQ) (_Read until “4.6. Defining Functions” included_)\n",
    "+ [__IndentationError__](https://intranet.alxswe.com/rltoken/F9n2AE-fpEPzt2PfBMGYAQ)\n",
    "+ [__How To Use String Formatters in Python 3__](https://intranet.alxswe.com/rltoken/ZdtRIAkFu8dMBT99DcFBNg)\n",
    "+ [__Learn to Program__](https://intranet.alxswe.com/rltoken/ElQgZYNHrLI7kV_ysEB1hQ)\n",
    "+ [__Learn to Program 2 : Looping__](https://intranet.alxswe.com/rltoken/ElQgZYNHrLI7kV_ysEB1hQ)\n",
    "+ [__Pycodestyle – Style Guide for Python Code__](https://intranet.alxswe.com/rltoken/TuTTnEg_Rwn8U1g3PEsZmA)\n",
    "\n",
    "__man or help:__\n",
    "\n",
    "+ __python3__"
   ]
  },
  {
   "cell_type": "markdown",
   "metadata": {},
   "source": [
    "## Task"
   ]
  },
  {
   "cell_type": "markdown",
   "metadata": {},
   "source": [
    "### <sup>0</sup> __Positive anything is better than negative nothing__\n",
    "This program will assign a random signed number to the variable __number__ each time it is executed. Complete the source code in order to print whether the number stored in the variable __number__ is positive or negative.\n",
    "\n",
    "+ You can find the source code [here](https://intranet.alxswe.com/rltoken/e4tR3cjFHqhelf4y485-zQ)\n",
    "+ The variable __number__ will store a different value every time you will run this program\n",
    "+ You don’t have to understand what __import__, __random__. __randint__ do. Please do not touch this code\n",
    "+ The output of the program should be:\n",
    "    + The number, followed by\n",
    "        + if the number is greater than 0: __is positive__\n",
    "        + if the number is 0: __is zero__\n",
    "        + if the number is less than 0: __is negative__\n",
    "    + followed by a new line"
   ]
  },
  {
   "cell_type": "code",
   "execution_count": 1,
   "metadata": {},
   "outputs": [
    {
     "name": "stdout",
     "output_type": "stream",
     "text": [
      "-5 is negative\n"
     ]
    }
   ],
   "source": [
    "import random\n",
    "\n",
    "number = random.randint(-10,10) \n",
    "if number > 0:\n",
    "    print(number, \"is positive\")\n",
    "elif number == 0:\n",
    "    print(number, \"is zero\")\n",
    "else:\n",
    "    print(number, \"is negative\")\n"
   ]
  },
  {
   "cell_type": "markdown",
   "metadata": {},
   "source": [
    "### <sup>1</sup> __The last digit__\n",
    "\n",
    "This program will assign a random signed number to the variable __number__ each time it is executed. Complete the source code in order to print the last digit of the number stored in the variable __number__.\n",
    "\n",
    "+ You can find the source code [here](https://intranet.alxswe.com/rltoken/Vku0ZPFeDPuXUKD8nZ4mOQ)\n",
    "+ The variable __number__ will store a different value every time you will run this program\n",
    "+ You don’t have to understand what __import__, __random.randint__ do. _Please do not touch this code_. This line should not change: __number = random.randint(-10000, 10000)__\n",
    "+ The output of the program should be:\n",
    "    + The string __Last digit of__, followed by\n",
    "    + the number, followed by\n",
    "    + the string __is__, followed by the last digit of __number__, followed by\n",
    "        + if the last digit is greater than 5: the string __and is greater than 5__\n",
    "        + if the last digit is 0: the string __and is 0__\n",
    "        + if the last digit is less than 6 and not 0: the string __and is less than 6 and not 0__\n",
    "    + followed by a new line"
   ]
  },
  {
   "cell_type": "code",
   "execution_count": 2,
   "metadata": {},
   "outputs": [
    {
     "name": "stdout",
     "output_type": "stream",
     "text": [
      "Last digit of 7051 is 1 and is less than 6 and not 0\n"
     ]
    }
   ],
   "source": [
    "import random\n",
    "\n",
    "number = random.randint(-10000,10000) \n",
    "\n",
    "last = int(str(number)[-1])\n",
    "if last > 5:\n",
    "    print('Last digit of', number, 'is', last, 'and is greater than 5')\n",
    "elif last == 0:\n",
    "    print('Last digit of', number, 'is', last, 'and is 0')\n",
    "elif last < 6 and last != 0:\n",
    "    print('Last digit of', number, 'is', last, 'and is less than 6 and not 0')"
   ]
  },
  {
   "cell_type": "markdown",
   "metadata": {},
   "source": [
    "### <sup>2</sup> __I sometimes suffer from insomnia. And when I can't fall asleep, I play what I call the alphabet game__\n",
    "\n",
    "Write a program that prints the ASCII alphabet, in lowercase, not followed by a new line.\n",
    "\n",
    "+ You can only use one __print__ function with string format\n",
    "+ You can only use one loop in your code\n",
    "+ You are not allowed to store characters in a variable\n",
    "+ You are not allowed to import any module\n",
    ">__guillaume@ubuntu:~/0x01$__ ./2-print_alphabet.py<br> abcdefghijklmnopqrstuvwxyz <br>__guillaume@ubuntu:~/0x01$__"
   ]
  },
  {
   "cell_type": "code",
   "execution_count": 3,
   "metadata": {},
   "outputs": [
    {
     "name": "stdout",
     "output_type": "stream",
     "text": [
      "abcdefghijklmnopqrstuvwxyz"
     ]
    }
   ],
   "source": [
    "for i in range(97, 123):\n",
    "    print(chr(i), end='')\n"
   ]
  },
  {
   "cell_type": "markdown",
   "metadata": {},
   "source": [
    "### <sup>3</sup> __When I was having that alphabet soup, I never thought that it would pay off__\n",
    "\n",
    "Write a program that prints the ASCII alphabet, in lowercase, not followed by a new line.\n",
    "\n",
    "+ Print all the letters except __q__ and __e__\n",
    "+ You can only use one __print__ function with string format\n",
    "+ You can only use one loop in your code\n",
    "+ You are not allowed to store characters in a variable\n",
    "+ You are not allowed to import any module\n",
    ">__guillaume@ubuntu:~/0x01$__ ./3-print_alphabt.py<br>abcdfghijklmnoprstuvwxyz<br> __guillaume@ubuntu:~/0x01$__"
   ]
  },
  {
   "cell_type": "code",
   "execution_count": 4,
   "metadata": {},
   "outputs": [
    {
     "name": "stdout",
     "output_type": "stream",
     "text": [
      "abcdfghijklmnoprstuvwxyz"
     ]
    }
   ],
   "source": [
    "for i in range(97, 123):\n",
    "    if (chr(i) == 'e') or (chr(i) == 'q'):\n",
    "        continue\n",
    "    else:\n",
    "        print(chr(i), end='')"
   ]
  },
  {
   "cell_type": "markdown",
   "metadata": {},
   "source": [
    "### <sup>4</sup> __Hexadecimal printing__\n",
    "\n",
    "Write a program that prints all numbers from __0__ to __98__ in decimal and in hexadecimal (as in the following example)\n",
    "\n",
    "+ You can only use one __print__ function with string format\n",
    "+ You can only use one loop in your code\n",
    "+ You are not allowed to store numbers or strings in a variable\n",
    "+ You are not allowed to import any module"
   ]
  },
  {
   "cell_type": "code",
   "execution_count": 5,
   "metadata": {},
   "outputs": [
    {
     "name": "stdout",
     "output_type": "stream",
     "text": [
      "0 = 0x0\n",
      "1 = 0x1\n",
      "2 = 0x2\n",
      "3 = 0x3\n",
      "4 = 0x4\n",
      "5 = 0x5\n",
      "6 = 0x6\n",
      "7 = 0x7\n",
      "8 = 0x8\n",
      "9 = 0x9\n",
      "10 = 0xa\n",
      "11 = 0xb\n",
      "12 = 0xc\n",
      "13 = 0xd\n",
      "14 = 0xe\n",
      "15 = 0xf\n",
      "16 = 0x10\n",
      "17 = 0x11\n",
      "18 = 0x12\n",
      "19 = 0x13\n",
      "20 = 0x14\n",
      "21 = 0x15\n",
      "22 = 0x16\n",
      "23 = 0x17\n",
      "24 = 0x18\n",
      "25 = 0x19\n",
      "26 = 0x1a\n",
      "27 = 0x1b\n",
      "28 = 0x1c\n",
      "29 = 0x1d\n",
      "30 = 0x1e\n",
      "31 = 0x1f\n",
      "32 = 0x20\n",
      "33 = 0x21\n",
      "34 = 0x22\n",
      "35 = 0x23\n",
      "36 = 0x24\n",
      "37 = 0x25\n",
      "38 = 0x26\n",
      "39 = 0x27\n",
      "40 = 0x28\n",
      "41 = 0x29\n",
      "42 = 0x2a\n",
      "43 = 0x2b\n",
      "44 = 0x2c\n",
      "45 = 0x2d\n",
      "46 = 0x2e\n",
      "47 = 0x2f\n",
      "48 = 0x30\n",
      "49 = 0x31\n",
      "50 = 0x32\n",
      "51 = 0x33\n",
      "52 = 0x34\n",
      "53 = 0x35\n",
      "54 = 0x36\n",
      "55 = 0x37\n",
      "56 = 0x38\n",
      "57 = 0x39\n",
      "58 = 0x3a\n",
      "59 = 0x3b\n",
      "60 = 0x3c\n",
      "61 = 0x3d\n",
      "62 = 0x3e\n",
      "63 = 0x3f\n",
      "64 = 0x40\n",
      "65 = 0x41\n",
      "66 = 0x42\n",
      "67 = 0x43\n",
      "68 = 0x44\n",
      "69 = 0x45\n",
      "70 = 0x46\n",
      "71 = 0x47\n",
      "72 = 0x48\n",
      "73 = 0x49\n",
      "74 = 0x4a\n",
      "75 = 0x4b\n",
      "76 = 0x4c\n",
      "77 = 0x4d\n",
      "78 = 0x4e\n",
      "79 = 0x4f\n",
      "80 = 0x50\n",
      "81 = 0x51\n",
      "82 = 0x52\n",
      "83 = 0x53\n",
      "84 = 0x54\n",
      "85 = 0x55\n",
      "86 = 0x56\n",
      "87 = 0x57\n",
      "88 = 0x58\n",
      "89 = 0x59\n",
      "90 = 0x5a\n",
      "91 = 0x5b\n",
      "92 = 0x5c\n",
      "93 = 0x5d\n",
      "94 = 0x5e\n",
      "95 = 0x5f\n",
      "96 = 0x60\n",
      "97 = 0x61\n",
      "98 = 0x62\n"
     ]
    }
   ],
   "source": [
    "for i in range(99):\n",
    "    print(i, '=', hex(i))\n"
   ]
  },
  {
   "cell_type": "markdown",
   "metadata": {},
   "source": [
    "### <sup>5</sup> __00...99__\n",
    "\n",
    "Write a program that prints numbers from __0__ to __99__.\n",
    "\n",
    "+ Numbers must be separated by __,__ , followed by a space\n",
    "+ Numbers should be printed in ascending order, with two digits\n",
    "+ The last number should be followed by a new line\n",
    "+ You can only use no more than 2 __print__ functions with string format\n",
    "+ You can only use one loop in your code\n",
    "+ You are not allowed to store numbers or strings in a variable\n",
    "+ You are not allowed to import any module"
   ]
  },
  {
   "cell_type": "code",
   "execution_count": 6,
   "metadata": {},
   "outputs": [
    {
     "name": "stdout",
     "output_type": "stream",
     "text": [
      "00, 01, 02, 03, 04, 05, 06, 07, 08, 09, 10, 11, 12, 13, 14, 15, 16, 17, 18, 19, 20, 21, 22, 23, 24, 25, 26, 27, 28, 29, 30, 31, 32, 33, 34, 35, 36, 37, 38, 39, 40, 41, 42, 43, 44, 45, 46, 47, 48, 49, 50, 51, 52, 53, 54, 55, 56, 57, 58, 59, 60, 61, 62, 63, 64, 65, 66, 67, 68, 69, 70, 71, 72, 73, 74, 75, 76, 77, 78, 79, 80, 81, 82, 83, 84, 85, 86, 87, 88, 89, 90, 91, 92, 93, 94, 95, 96, 97, 98, 99\n"
     ]
    }
   ],
   "source": [
    "for i in range(100):\n",
    "    if i == 99:\n",
    "        print(99)\n",
    "    else:\n",
    "        if i < 10:\n",
    "            i = str(0)+str(i)\n",
    "        print(i, end=', ')"
   ]
  },
  {
   "cell_type": "markdown",
   "metadata": {},
   "source": [
    "### <sup>6</sup> __Inventing is a combination of brains and materials. The more brains you use, the less material you need__\n",
    "\n",
    "Write a program that prints all possible different combinations of two digits.\n",
    "\n",
    "+ Numbers must be separated by __,__ , followed by a space\n",
    "+ The two digits must be different\n",
    "+ __01__ and __10__ are considered the same combination of the two digits __0__ and __1__\n",
    "+ Print only the smallest combination of two digits\n",
    "+ Numbers should be printed in ascending order, with two digits\n",
    "+ The last number should be followed by a new line\n",
    "+ You can only use no more than 3 __print__ functions with string format\n",
    "+ You can only use no more than 2 loops in your code\n",
    "+ You are not allowed to store numbers or strings in a variable\n",
    "+ You are not allowed to import any module\n",
    ">__guillaume@ubuntu:~/0x01$__ ./6-print_comb3.py<br>\n",
    ">01, 02, 03, 04, 05, 06, 07, 08, 09, 12, 13, 14, 15, 16, 17, 18, 19, 23, 24, 25, 26, 27, 28,<br> 29, 34, 35, 36, 37, 38, 39, 45, 46, 47, 48, 49, 56, 57, 58, 59, 67, 68, 69, 78, 79, 89<br>\n",
    ">__guillaume@ubuntu:~/0x01$__ "
   ]
  },
  {
   "cell_type": "code",
   "execution_count": 7,
   "metadata": {},
   "outputs": [
    {
     "name": "stdout",
     "output_type": "stream",
     "text": [
      "01, 02, 03, 04, 05, 06, 07, 08, 09, 12, 13, 14, 15, 16, 17, 18, 19, 23, 24, 25, 26, 27, 28, 29, 34, 35, 36, 37, 38, 39, 45, 46, 47, 48, 49, 56, 57, 58, 59, 67, 68, 69, 78, 79, 89\n"
     ]
    },
    {
     "data": {
      "text/plain": [
       "45"
      ]
     },
     "execution_count": 7,
     "metadata": {},
     "output_type": "execute_result"
    }
   ],
   "source": [
    "count = 0\n",
    "for i in range(100):\n",
    "    if i == 89:\n",
    "        print(89)\n",
    "        count+=1\n",
    "    else:\n",
    "        if i < 10:\n",
    "            i = str(0)+str(i)\n",
    "        if int(str(i)[-1::-1]) < int(i):\n",
    "            continue\n",
    "        elif int(str(i)[-1::-1]) == int(i):\n",
    "            continue\n",
    "        else:\n",
    "            print(i, end=', ')\n",
    "            count+=1\n",
    "count"
   ]
  },
  {
   "cell_type": "markdown",
   "metadata": {},
   "source": [
    "### <sup>7</sup> __islower__\n",
    "\n",
    "Write a function that checks for lowercase character.\n",
    "\n",
    "+ Prototype: __def islower(c):__\n",
    "+ Returns __True__ if __c__ is lowercase\n",
    "+ Returns __False__ otherwise\n",
    "+ You are not allowed to import any module\n",
    "+ You are not allowed to use __str.upper()__ and __str.isupper()__\n",
    "+ [__Tips: ord()__](https://intranet.alxswe.com/rltoken/WglAv9ep-gg2wwo49DYfKg)"
   ]
  },
  {
   "cell_type": "code",
   "execution_count": 8,
   "metadata": {},
   "outputs": [
    {
     "data": {
      "text/plain": [
       "False"
      ]
     },
     "execution_count": 8,
     "metadata": {},
     "output_type": "execute_result"
    }
   ],
   "source": [
    "def islower(c):\n",
    "    condition = False \n",
    "\n",
    "    # way1\n",
    "    lower = [chr(i) for i in range(97, 123)]\n",
    "    if c in lower:\n",
    "        condition = True\n",
    "    \n",
    "    # way2\n",
    "    if ord(c) >= 97 and ord(c) <= 122:\n",
    "        condition = True\n",
    "    return condition\n",
    "\n",
    "islower('Z')"
   ]
  },
  {
   "cell_type": "markdown",
   "metadata": {},
   "source": [
    "### <sup>8</sup> __To uppercase__\n",
    "\n",
    "Write a function that prints a string in uppercase followed by a new line.\n",
    "\n",
    "Prototype: __def uppercase(str):__\n",
    "+ You can only use no more than 2 __print__ functions with string format\n",
    "+ You can only use one loop in your code\n",
    "+ You are not allowed to import any module\n",
    "+ You are not allowed to use __str.upper()__ and __str.isupper()__\n",
    "+ [__Tips: ord()__](https://intranet.alxswe.com/rltoken/WglAv9ep-gg2wwo49DYfKg)\n"
   ]
  },
  {
   "cell_type": "code",
   "execution_count": 9,
   "metadata": {},
   "outputs": [
    {
     "data": {
      "text/plain": [
       "True"
      ]
     },
     "execution_count": 9,
     "metadata": {},
     "output_type": "execute_result"
    }
   ],
   "source": [
    "def islower(c):\n",
    "    condition = False \n",
    "\n",
    "    # way1\n",
    "    lower = [chr(i) for i in range(65, 92)]\n",
    "    if c in lower:\n",
    "        condition = True\n",
    "    \n",
    "    # way2\n",
    "    if ord(c) >= 65 and ord(c) <= 91:\n",
    "        condition = True\n",
    "    return condition\n",
    "\n",
    "islower('Z')"
   ]
  },
  {
   "cell_type": "markdown",
   "metadata": {},
   "source": [
    "### <sup>9</sup> __There are only 3 colors, 10 digits, and 7 notes; it's what we do with them that's important__\n",
    "\n",
    "Write a function that prints the last digit of a number.\n",
    "\n",
    "+ Prototype: __def print_last_digit(number):__\n",
    "+ Returns the value of the last digit\n",
    "+ You are not allowed to import any module"
   ]
  },
  {
   "cell_type": "code",
   "execution_count": 10,
   "metadata": {},
   "outputs": [
    {
     "data": {
      "text/plain": [
       "2"
      ]
     },
     "execution_count": 10,
     "metadata": {},
     "output_type": "execute_result"
    }
   ],
   "source": [
    "def print_last_digit(number):\n",
    "    return int(str(number)[-1])\n",
    "\n",
    "print_last_digit(1002)"
   ]
  },
  {
   "cell_type": "markdown",
   "metadata": {},
   "source": [
    "### <sup>10</sup> __a + b__\n",
    "\n",
    "Write a function that adds two integers and returns the result.\n",
    "\n",
    "+ Prototype: __def add(a, b):__\n",
    "+ Returns the value of __a + b__\n",
    "+ You are not allowed to import any module"
   ]
  },
  {
   "cell_type": "code",
   "execution_count": 11,
   "metadata": {},
   "outputs": [],
   "source": [
    "def add(a, b):\n",
    "    return a + b"
   ]
  },
  {
   "cell_type": "markdown",
   "metadata": {},
   "source": [
    "### <sup>11</sup> __a ^ b__\n",
    "Write a function that computes a to the power of b and return the value.\n",
    "\n",
    "+ Prototype: __def pow(a, b):__\n",
    "+ Returns the value of __a ^ b__\n",
    "+ You are not allowed to import any module"
   ]
  },
  {
   "cell_type": "code",
   "execution_count": 12,
   "metadata": {},
   "outputs": [
    {
     "data": {
      "text/plain": [
       "-1024"
      ]
     },
     "execution_count": 12,
     "metadata": {},
     "output_type": "execute_result"
    }
   ],
   "source": [
    "def pow(a,b):\n",
    "    return a**b\n",
    "pow(-4,5)"
   ]
  },
  {
   "cell_type": "markdown",
   "metadata": {},
   "source": [
    "### <sup>12</sup> __Fizz Buzz__\n",
    "\n",
    "Write a function that prints the numbers from 1 to 100 separated by a space.\n",
    "\n",
    "+ For multiples of three print __Fizz__ instead of the number and for multiples of five print __Buzz__.\n",
    "+ For numbers which are multiples of both three and five print __FizzBuzz__.\n",
    "+ Prototype: __def fizzbuzz():__\n",
    "+ Each element should be followed by a space\n",
    "+ You are not allowed to import any module"
   ]
  },
  {
   "cell_type": "code",
   "execution_count": 13,
   "metadata": {},
   "outputs": [
    {
     "name": "stdout",
     "output_type": "stream",
     "text": [
      "1\n",
      "2\n",
      "Fizz\n",
      "4\n",
      "Buzz\n",
      "Fizz\n",
      "7\n",
      "8\n",
      "Fizz\n",
      "Buzz\n",
      "11\n",
      "Fizz\n",
      "13\n",
      "14\n",
      "FizzBuzz\n",
      "16\n",
      "17\n",
      "Fizz\n",
      "19\n",
      "Buzz\n",
      "Fizz\n",
      "22\n",
      "23\n",
      "Fizz\n",
      "Buzz\n",
      "26\n",
      "Fizz\n",
      "28\n",
      "29\n",
      "FizzBuzz\n",
      "31\n",
      "32\n",
      "Fizz\n",
      "34\n",
      "Buzz\n",
      "Fizz\n",
      "37\n",
      "38\n",
      "Fizz\n",
      "Buzz\n",
      "41\n",
      "Fizz\n",
      "43\n",
      "44\n",
      "FizzBuzz\n",
      "46\n",
      "47\n",
      "Fizz\n",
      "49\n",
      "Buzz\n",
      "Fizz\n",
      "52\n",
      "53\n",
      "Fizz\n",
      "Buzz\n",
      "56\n",
      "Fizz\n",
      "58\n",
      "59\n",
      "FizzBuzz\n",
      "61\n",
      "62\n",
      "Fizz\n",
      "64\n",
      "Buzz\n",
      "Fizz\n",
      "67\n",
      "68\n",
      "Fizz\n",
      "Buzz\n",
      "71\n",
      "Fizz\n",
      "73\n",
      "74\n",
      "FizzBuzz\n",
      "76\n",
      "77\n",
      "Fizz\n",
      "79\n",
      "Buzz\n",
      "Fizz\n",
      "82\n",
      "83\n",
      "Fizz\n",
      "Buzz\n",
      "86\n",
      "Fizz\n",
      "88\n",
      "89\n",
      "FizzBuzz\n",
      "91\n",
      "92\n",
      "Fizz\n",
      "94\n",
      "Buzz\n",
      "Fizz\n",
      "97\n",
      "98\n",
      "Fizz\n",
      "Buzz\n"
     ]
    }
   ],
   "source": [
    "for i in range(1,101):\n",
    "    if i%3 == 0 and i%5 == 0:\n",
    "        print('FizzBuzz')\n",
    "    elif i%3 == 0:\n",
    "        print('Fizz')\n",
    "    elif i%5 == 0:\n",
    "        print('Buzz')\n",
    "    else:\n",
    "        print(i)"
   ]
  },
  {
   "cell_type": "markdown",
   "metadata": {},
   "source": [
    "### <sup>14</sup> __Smile in the mirror__\n",
    "\n",
    "Write a program that prints the ASCII alphabet, in reverse order, alternating lowercase and uppercase (__z__ in lowercase and __Y__ in uppercase) , not followed by a new line.\n",
    "\n",
    "+ You can only use one __print__ function with string format\n",
    "+ You can only use one loop in your code\n",
    "+ You are not allowed to store characters in a variable\n",
    "+ You are not allowed to import any module\n",
    "\n",
    "> __guillaume@ubuntu:~/0x01$__ ./100-print_tebahpla.py<br>\n",
    "> zYxWvUtSrQpOnMlKjIhGfEdCbA<br>__guillaume@ubuntu:~/0x01$__"
   ]
  },
  {
   "cell_type": "code",
   "execution_count": 14,
   "metadata": {},
   "outputs": [
    {
     "name": "stdout",
     "output_type": "stream",
     "text": [
      "zYxWvUtSrQpOnMlKjIhGfEdCbA"
     ]
    }
   ],
   "source": [
    "for i in range(122, 96, -1):\n",
    "    print('{}'.format(chr(i) if i%2 == 0 else chr(i-32)), end='')\n"
   ]
  },
  {
   "cell_type": "markdown",
   "metadata": {},
   "source": [
    "### <sup>15</sup> __Remove at position__\n",
    "\n",
    "Write a function that creates a copy of the string, removing the character at the position __n__ (not the Python way, the “C array index”).\n",
    "\n",
    "+ Prototype: __def remove_char_at(str, n):__\n",
    "+ You are not allowed to import any module"
   ]
  },
  {
   "cell_type": "code",
   "execution_count": 33,
   "metadata": {},
   "outputs": [
    {
     "name": "stdout",
     "output_type": "stream",
     "text": [
      "love yu\n"
     ]
    }
   ],
   "source": [
    "def remove_char_at(str, n):\n",
    "    copy = [i for i in str]\n",
    "    copy.pop(n)\n",
    "    new = ''.join(copy)\n",
    "    print(new)\n",
    "\n",
    "remove_char_at(\"love you\", -2)"
   ]
  },
  {
   "cell_type": "markdown",
   "metadata": {},
   "source": [
    "### <sup>16</sup> __ByteCode -> Python #2__\n",
    "\n",
    "Write the Python function __def magic_calculation(a, b, c):__ that does exactly the same as the following Python bytecode:\n",
    "\n",
    "      3           0 LOAD_FAST                0 (a)\n",
    "                  3 LOAD_FAST                1 (b)\n",
    "                  6 COMPARE_OP               0 (<)\n",
    "                  9 POP_JUMP_IF_FALSE       16\n",
    "    \n",
    "      4          12 LOAD_FAST                2 (c)\n",
    "                 15 RETURN_VALUE\n",
    "    \n",
    "      5     >>   16 LOAD_FAST                2 (c)\n",
    "                 19 LOAD_FAST                1 (b)\n",
    "                 22 COMPARE_OP               4 (>)\n",
    "                 25 POP_JUMP_IF_FALSE       36\n",
    "    \n",
    "      6          28 LOAD_FAST                0 (a)\n",
    "                 31 LOAD_FAST                1 (b)\n",
    "                 34 BINARY_ADD\n",
    "                 35 RETURN_VALUE\n",
    "    \n",
    "      7     >>   36 LOAD_FAST                0 (a)\n",
    "                 39 LOAD_FAST                1 (b)\n",
    "                 42 BINARY_MULTIPLY\n",
    "                 43 LOAD_FAST                2 (c)\n",
    "                 46 BINARY_SUBTRACT\n",
    "                 47 RETURN_VALUE\n",
    "[__tips - ByteCode__](https://intranet.alxswe.com/rltoken/BO9a7nq6424lGmtmwyB4cQ)"
   ]
  }
 ],
 "metadata": {
  "kernelspec": {
   "display_name": "Python 3",
   "language": "python",
   "name": "python3"
  },
  "language_info": {
   "codemirror_mode": {
    "name": "ipython",
    "version": 3
   },
   "file_extension": ".py",
   "mimetype": "text/x-python",
   "name": "python",
   "nbconvert_exporter": "python",
   "pygments_lexer": "ipython3",
   "version": "3.11.6"
  }
 },
 "nbformat": 4,
 "nbformat_minor": 2
}
