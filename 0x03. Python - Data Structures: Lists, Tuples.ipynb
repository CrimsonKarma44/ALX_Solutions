{
 "cells": [
  {
   "cell_type": "markdown",
   "metadata": {},
   "source": [
    "# __0x03. Python - Data Structures: Lists, Tuples__"
   ]
  },
  {
   "cell_type": "markdown",
   "metadata": {},
   "source": [
    "### __Resources__\n",
    "\n",
    "__Read or watch:__\n",
    "\n",
    "+ [__3.1.3. Lists__](https://intranet.alxswe.com/rltoken/VarQbHxfmbnpGnaGp3Nb_A)\n",
    "+ [__Data structures__](https://intranet.alxswe.com/rltoken/2aa8Mp-V2eSieGeX3OX8yQ) (_until __5.3. Tuples and Sequences__ included_)\n",
    "+ [__Learn to Program 6 : Lists__](https://intranet.alxswe.com/rltoken/BX2_CuHj1sq4eYGiXbCYSg)"
   ]
  },
  {
   "cell_type": "markdown",
   "metadata": {},
   "source": [
    "## Task"
   ]
  },
  {
   "cell_type": "markdown",
   "metadata": {},
   "source": [
    "### <sup>0</sup> __Print a list of integers__\n",
    "\n",
    "Write a function that prints all integers of a list.\n",
    "\n",
    "+ Prototype: __def print_list_integer(my_list=[]):__\n",
    "+ Format: one integer per line. See example\n",
    "+ You are not allowed to import any module\n",
    "+ You can assume that the list only contains integers\n",
    "+ You are not allowed to cast integers into strings\n",
    "+ You have to use __str.format()__ to print integers"
   ]
  },
  {
   "cell_type": "code",
   "execution_count": 6,
   "metadata": {},
   "outputs": [
    {
     "name": "stdout",
     "output_type": "stream",
     "text": [
      "1\n",
      "2\n",
      "3\n",
      "4\n",
      "5\n"
     ]
    }
   ],
   "source": [
    "def print_list_integer(my_list=[]):\n",
    "    for i in my_list:\n",
    "        print(\"{}\".format(i))\n",
    "print_list_integer([1,2,3,4,5])"
   ]
  },
  {
   "cell_type": "markdown",
   "metadata": {},
   "source": [
    "### <sup>1</sup> __Secure access to an element in a list__\n",
    "\n",
    "Write a function that retrieves an element from a list like in C.\n",
    "\n",
    "+ Prototype: __def element_at(my_list, idx):__\n",
    "+ If __idx__ is negative, the function should return __None__\n",
    "+ If __idx__ is out of range (> of number of element in __my_list__), the function should return __None__\n",
    "+ You are not allowed to import any module\n",
    "+ You are not allowed to use __try/except__"
   ]
  },
  {
   "cell_type": "code",
   "execution_count": 4,
   "metadata": {},
   "outputs": [
    {
     "data": {
      "text/plain": [
       "4"
      ]
     },
     "execution_count": 4,
     "metadata": {},
     "output_type": "execute_result"
    }
   ],
   "source": [
    "def element_at(my_list, idx):\n",
    "    if idx < 0:\n",
    "        return None\n",
    "    elif idx > len(my_list)-1:\n",
    "        return None\n",
    "    return my_list[idx]\n",
    "\n",
    "element_at([1,2,3,4,5], 3)"
   ]
  },
  {
   "cell_type": "markdown",
   "metadata": {},
   "source": [
    "### <sup>2</sup> __Replace element__\n",
    "\n",
    "Write a function that replaces an element of a list at a specific position (like in C).\n",
    "\n",
    "+ Prototype: __def replace_in_list(my_list, idx, element):__\n",
    "+ If __idx__ is negative, the function should not modify anything, and returns the original list\n",
    "+ If __idx__ is out of range (> of number of element in __my_list__), the function should not modify anything, and returns the original list\n",
    "+ You are not allowed to import any module\n",
    "+ You are not allowed to use __try/except__"
   ]
  },
  {
   "cell_type": "code",
   "execution_count": 5,
   "metadata": {},
   "outputs": [
    {
     "data": {
      "text/plain": [
       "[1, 2, 3, 2, 5]"
      ]
     },
     "execution_count": 5,
     "metadata": {},
     "output_type": "execute_result"
    }
   ],
   "source": [
    "def replace_in_list(my_list, idx, element):\n",
    "    my_list[idx] = element\n",
    "lis = [1,2,3,4,5]\n",
    "replace_in_list(lis, 3, 2)\n",
    "lis"
   ]
  },
  {
   "cell_type": "markdown",
   "metadata": {},
   "source": [
    "### <sup>3.</sup> __Print a list of integers... in reverse!__\n",
    "\n",
    "Write a function that prints all integers of a list, in reverse order.\n",
    "\n",
    "+ Prototype: __def print_reversed_list_integer(my_list=[]):__\n",
    "+ Format: one integer per line. See example\n",
    "+ You are not allowed to import any module\n",
    "+ You can assume that the list only contains integers\n",
    "+ You are not allowed to cast integers into strings\n",
    "+ You have to use __str.format()__ to print integers"
   ]
  },
  {
   "cell_type": "code",
   "execution_count": 9,
   "metadata": {},
   "outputs": [
    {
     "name": "stdout",
     "output_type": "stream",
     "text": [
      "5\n",
      "4\n",
      "3\n",
      "2\n",
      "1\n"
     ]
    }
   ],
   "source": [
    "def print_reversed_list_integer(my_list=[]):\n",
    "    new = my_list[-1::-1]\n",
    "    for i in new:\n",
    "        print(\"{}\".format(i))\n",
    "print_reversed_list_integer([1,2,3,4,5])"
   ]
  },
  {
   "cell_type": "markdown",
   "metadata": {},
   "source": [
    "### <sup>4</sup> __Replace in a copy__\n",
    "\n",
    "Write a function that replaces an element in a list at a specific position without modifying the original list (like in C).\n",
    "\n",
    "+ Prototype: __def new_in_list(my_list, idx, element):__\n",
    "+ If __idx__ is negative, the function should return a copy of the original __list__\n",
    "+ If __idx__ is out of range (> of number of element in __my_list__), the function should return a copy of the original __list__\n",
    "+ You are not allowed to import any module\n",
    "+ You are not allowed to use __try/except__"
   ]
  },
  {
   "cell_type": "code",
   "execution_count": 10,
   "metadata": {},
   "outputs": [
    {
     "name": "stdout",
     "output_type": "stream",
     "text": [
      "[1, 2, 3, 4, 5]\n",
      "[1, 2, 3, 9, 5]\n"
     ]
    }
   ],
   "source": [
    "def new_in_list(my_list, idx, element):\n",
    "    copied = my_list.copy()\n",
    "    if idx < 0:\n",
    "        return copied\n",
    "    elif idx > len(my_list)-1:\n",
    "        return copied\n",
    "    copied[idx] = element\n",
    "    return copied\n",
    "lis = [1,2,3,4,5]\n",
    "ll = new_in_list(lis, 3, 9)\n",
    "\n",
    "print(lis)\n",
    "print(ll)"
   ]
  },
  {
   "cell_type": "markdown",
   "metadata": {},
   "source": [
    "### <sup>5</sup> __Can you C me now?__\n",
    "\n",
    "Write a function that removes all characters c and C from a string.\n",
    "\n",
    "+ Prototype: __def no_c(my_string):__\n",
    "+ The function should return the new string\n",
    "+ You are not allowed to import any module\n",
    "+ You are not allowed to use __str.replace()__"
   ]
  },
  {
   "cell_type": "code",
   "execution_count": 22,
   "metadata": {},
   "outputs": [
    {
     "data": {
      "text/plain": [
       "' is fun'"
      ]
     },
     "execution_count": 22,
     "metadata": {},
     "output_type": "execute_result"
    }
   ],
   "source": [
    "def no_c(my_string):\n",
    "    if 'c' in my_string or \"C\" in my_string:\n",
    "        return \"\".join([v for v in [i for i in my_string if i != \"c\"] if v != \"C\"])\n",
    "    else:\n",
    "        return my_string\n",
    "\n",
    "no_c(\"C is fun\")"
   ]
  },
  {
   "cell_type": "markdown",
   "metadata": {},
   "source": [
    "### <sup>6</sup> __Lists of lists = Matrix__\n",
    "\n",
    "Write a function that prints a matrix of integers.\n",
    "\n",
    "+ Prototype: __def print_matrix_integer(matrix=[[]]):__\n",
    "+ Format: see example\n",
    "+ You are not allowed to import any module\n",
    "+ You can assume that the list only contains integers\n",
    "+ You are not allowed to cast integers into strings\n",
    "+ You have to use __str.format()__ to print integers"
   ]
  },
  {
   "cell_type": "code",
   "execution_count": 26,
   "metadata": {},
   "outputs": [
    {
     "name": "stdout",
     "output_type": "stream",
     "text": [
      "1 2 3 \n",
      "4 5 6 \n",
      "7 8 9 \n"
     ]
    }
   ],
   "source": [
    "def print_matrix_integer(matrix=[[]]):\n",
    "    for i in matrix:\n",
    "        for d in i:\n",
    "            print(\"{}\".format(d), end=' ')\n",
    "        print()\n",
    "matrix = [\n",
    "    [1, 2, 3],\n",
    "    [4, 5, 6],\n",
    "    [7, 8, 9]\n",
    "]\n",
    "print_matrix_integer(matrix)"
   ]
  },
  {
   "cell_type": "markdown",
   "metadata": {},
   "source": [
    "### <sup>7</sup> __Tuples addition__\n",
    "\n",
    "Write a function that adds 2 tuples.\n",
    "\n",
    "+ Prototype: __def add_tuple(tuple_a=(), tuple_b=()):__\n",
    "+ Returns a tuple with 2 integers:\n",
    "    + The first element should be the addition of the first element of each argument\n",
    "    + The second element should be the addition of the second element of each argument\n",
    "+ You are not allowed to import any module\n",
    "+ You can assume that the two tuples will only contain integers\n",
    "+ If a tuple is smaller than 2, use the value __0__ for each missing integer\n",
    "+ If a tuple is bigger than 2, use only the first 2 integers"
   ]
  },
  {
   "cell_type": "code",
   "execution_count": 81,
   "metadata": {},
   "outputs": [
    {
     "name": "stdout",
     "output_type": "stream",
     "text": [
      "(89, 100)\n",
      "(2, 89)\n",
      "(1, 89)\n"
     ]
    }
   ],
   "source": [
    "def add_tuple(tuple_a=(), tuple_b=()):\n",
    "    new_turple = []\n",
    "    while len(tuple_a) < 2:\n",
    "        new_a = list(tuple_a)\n",
    "        new_a.append(0)\n",
    "        tuple_a = tuple(new_a)\n",
    "    if len(tuple_a) > 2:\n",
    "        tuple_a = tuple_a[:2]\n",
    "    elif len(tuple_a) == 0:\n",
    "        tuple_a = tuple_a[:2]\n",
    "\n",
    "\n",
    "    while len(tuple_b) < 2:\n",
    "        new_b = list(tuple_b)\n",
    "        new_b.append(0)\n",
    "        tuple_b = tuple(new_b)\n",
    "    if len(tuple_b) > 2:\n",
    "        tuple_b = tuple_b[:2]\n",
    "    elif len(tuple_b) == 0:\n",
    "        tuple_a = tuple_a[:2]\n",
    "    \n",
    "\n",
    "    for i in range(len(tuple_a)):\n",
    "        new_turple.append(tuple_a[i]+tuple_b[i])\n",
    "    return tuple(new_turple)\n",
    "\n",
    "\n",
    "tuple_a = (1, 89)\n",
    "tuple_b = (88, 11)\n",
    "print(add_tuple(tuple_a, tuple_b))\n",
    "print(add_tuple(tuple_a, (1,)))\n",
    "print(add_tuple(tuple_a, ()))"
   ]
  },
  {
   "cell_type": "markdown",
   "metadata": {},
   "source": [
    "### <br>8</br> __More returns!__\n",
    "\n",
    "Write a function that returns a tuple with the length of a string and its first character.\n",
    "\n",
    "+ Prototype: __def multiple_returns(sentence):__\n",
    "+ If the sentence is empty, the first character should be equal to None\n",
    "+ You are not allowed to import any module"
   ]
  },
  {
   "cell_type": "code",
   "execution_count": 3,
   "metadata": {},
   "outputs": [
    {
     "data": {
      "text/plain": [
       "(0, None)"
      ]
     },
     "execution_count": 3,
     "metadata": {},
     "output_type": "execute_result"
    }
   ],
   "source": [
    "def multiple_returns(sentence):\n",
    "    return (len(sentence), sentence[0] if len(sentence) != 0 else None)\n",
    "multiple_returns(\"\")"
   ]
  },
  {
   "cell_type": "markdown",
   "metadata": {},
   "source": [
    "### <br>9</br> __Find the max__\n",
    "\n",
    "Write a function that finds the biggest integer of a list.\n",
    "\n",
    "+ Prototype: __def max_integer(my_list=[]):__\n",
    "+ If the list is empty, return __None__\n",
    "+ You can assume that the list only contains integers\n",
    "+ You are not allowed to import any module\n",
    "+ You are not allowed to use the builtin __max()__"
   ]
  },
  {
   "cell_type": "code",
   "execution_count": 6,
   "metadata": {},
   "outputs": [
    {
     "data": {
      "text/plain": [
       "90"
      ]
     },
     "execution_count": 6,
     "metadata": {},
     "output_type": "execute_result"
    }
   ],
   "source": [
    "def max_integer(my_list=[]):\n",
    "    if len(my_list) == 0:\n",
    "        return None\n",
    "    sudo = my_list[0]\n",
    "    for i in my_list:\n",
    "        if i > sudo:\n",
    "            sudo=i\n",
    "    return sudo\n",
    "\n",
    "max_integer([1, 90, 2, 13, 34, 5, -13, 3])"
   ]
  },
  {
   "cell_type": "markdown",
   "metadata": {},
   "source": [
    "### <br>10</br> __Only by 2__\n",
    "\n",
    "Write a function that finds all multiples of 2 in a list.\n",
    "\n",
    "+ Prototype: __def divisible_by_2(my_list=[]):__\n",
    "+ Return a new list with __True__ or __False__, depending on whether the integer at the same position in the original list is a multiple of 2\n",
    "+ The new list should have the same size as the original list\n",
    "+ You are not allowed to import any module"
   ]
  },
  {
   "cell_type": "code",
   "execution_count": 10,
   "metadata": {},
   "outputs": [
    {
     "data": {
      "text/plain": [
       "[True, False, True, False, True, False, True]"
      ]
     },
     "execution_count": 10,
     "metadata": {},
     "output_type": "execute_result"
    }
   ],
   "source": [
    "def divisible_by_2(my_list=[]):\n",
    "    return [True if i%2 == 0 else False for i in my_list ]\n",
    "divisible_by_2([0, 1, 2, 3, 4, 5, 6])"
   ]
  },
  {
   "cell_type": "markdown",
   "metadata": {},
   "source": [
    "### <sup>11</sup> __Delete at__\n",
    "\n",
    "Write a function that deletes the item at a specific position in a list.\n",
    "\n",
    "+ Prototype: __def delete_at(my_list=[], idx=0):__\n",
    "+ If __idx__ is negative or out of range, nothing change (returns the same list)\n",
    "+ You are not allowed to use __pop()__"
   ]
  },
  {
   "cell_type": "code",
   "execution_count": 16,
   "metadata": {},
   "outputs": [],
   "source": [
    "def delete_at(my_list=[], idx=0):\n",
    "    if idx < 0:\n",
    "        return my_list\n",
    "\n",
    "    new_list = my_list.copy()\n",
    "    my_list.clear()\n",
    "    \n",
    "    for d, i in enumerate(new_list):\n",
    "        if d != idx:\n",
    "            my_list.append(i)\n",
    "            \n",
    "    return my_list"
   ]
  },
  {
   "cell_type": "markdown",
   "metadata": {},
   "source": [
    "### <sup>12</sup> __Switch__\n",
    "\n",
    "Complete the source code in order to switch value of __a__ and __b__\n",
    "\n",
    "+ You can find the source code [__here__](https://intranet.alxswe.com/rltoken/9kg8R2hfPSN5pClcVAeGlA)\n",
    "+ Your code should be inserted where the comment is (line 4)\n",
    "+ Your program should be exactly 5 lines long\n",
    "+ guillaume@ubuntu:~/py/0x03$ ./12-switch.py\n",
    "+ a=10 - b=89\n",
    ">__guillaume@ubuntu:~/py/0x03$__ ./12-switch.py<br>\n",
    ">a=10 - b=89<br>\n",
    ">__guillaume@ubuntu:~/py/0x03$__ wc -l 12-switch.py<br>\n",
    ">5 12-switch.py<br>\n",
    ">__guillaume@ubuntu:~/py/0x03$__ "
   ]
  },
  {
   "cell_type": "code",
   "execution_count": 18,
   "metadata": {},
   "outputs": [
    {
     "name": "stdout",
     "output_type": "stream",
     "text": [
      "a=10 - b=89\n"
     ]
    }
   ],
   "source": [
    "#!/usr/bin/python3\n",
    "a = 89\n",
    "b = 10\n",
    "c = a\n",
    "a,b = b,c\n",
    "print(\"a={:d} - b={:d}\".format(a, b))"
   ]
  }
 ],
 "metadata": {
  "kernelspec": {
   "display_name": "Python 3",
   "language": "python",
   "name": "python3"
  },
  "language_info": {
   "codemirror_mode": {
    "name": "ipython",
    "version": 3
   },
   "file_extension": ".py",
   "mimetype": "text/x-python",
   "name": "python",
   "nbconvert_exporter": "python",
   "pygments_lexer": "ipython3",
   "version": "3.11.6"
  }
 },
 "nbformat": 4,
 "nbformat_minor": 2
}
