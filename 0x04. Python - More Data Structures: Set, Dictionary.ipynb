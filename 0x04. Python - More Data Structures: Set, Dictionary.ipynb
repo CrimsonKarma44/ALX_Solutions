{
 "cells": [
  {
   "cell_type": "markdown",
   "metadata": {},
   "source": [
    "# __0x04. Python - More Data Structures: Set, Dictionary__"
   ]
  },
  {
   "cell_type": "markdown",
   "metadata": {},
   "source": [
    "### __Resources__\n",
    "__Read or watch:__\n",
    "\n",
    "+ [__Data structures__](https://intranet.alxswe.com/rltoken/GmgoSUtBbHBW8suWkws51g)\n",
    "+ [__Lambda, filter, reduce and map__](https://intranet.alxswe.com/rltoken/53f4kKVT0-jyzrJstOSJWg)\n",
    "+ [__Learn to Program 12 Lambda Map Filter Reduce__](https://intranet.alxswe.com/rltoken/v9eyFryhkYmxDI13iTx2VA)"
   ]
  },
  {
   "cell_type": "markdown",
   "metadata": {},
   "source": [
    "## __Tasks__"
   ]
  },
  {
   "cell_type": "markdown",
   "metadata": {},
   "source": [
    "### <sup>0</sup> __Squared simple__\n",
    "\n",
    "Write a function that computes the square value of all integers of a matrix.\n",
    "\n",
    "+ Prototype: __def square_matrix_simple(matrix=[]):__\n",
    "+ __matrix__ is a 2 dimensional array\n",
    "    + Returns a new matrix:\n",
    "    + Same size as __matrix__\n",
    "+ Each value should be the square of the value of the input\n",
    "+ Initial matrix should not be modified\n",
    "+ You are not allowed to import any module\n",
    "+ You are allowed to use regular loops, __map__, etc."
   ]
  },
  {
   "cell_type": "code",
   "execution_count": null,
   "metadata": {},
   "outputs": [],
   "source": []
  },
  {
   "cell_type": "markdown",
   "metadata": {},
   "source": [
    "### <sup>1</sup> __Search and replace__\n",
    "\n",
    "Write a function that replaces all occurrences of an element by another in a new list.\n",
    "\n",
    "+ Prototype: __def search_replace(my_list, search, replace):__\n",
    "+ __my_list__ is the initial list\n",
    "+ __search__ is the element to replace in the list\n",
    "+ __replace__ is the new element\n",
    "+ You are not allowed to import any module"
   ]
  },
  {
   "cell_type": "code",
   "execution_count": null,
   "metadata": {},
   "outputs": [],
   "source": []
  },
  {
   "cell_type": "markdown",
   "metadata": {},
   "source": [
    "### <sup>2</sup> __Unique addition__\n",
    "\n",
    "Write a function that adds all unique integers in a list (only once for each integer).\n",
    "\n",
    "+ Prototype: __def uniq_add(my_list=[]):__\n",
    "+ You are not allowed to import any module"
   ]
  },
  {
   "cell_type": "code",
   "execution_count": null,
   "metadata": {},
   "outputs": [],
   "source": []
  },
  {
   "cell_type": "markdown",
   "metadata": {},
   "source": [
    "### 4. __Only differents__\n",
    "\n",
    "Write a function that returns a set of all elements present in only one set.\n",
    "\n",
    "Prototype: __def only_diff_elements(set_1, set_2):__\n",
    "You are not allowed to import any module"
   ]
  },
  {
   "cell_type": "code",
   "execution_count": null,
   "metadata": {},
   "outputs": [],
   "source": []
  },
  {
   "cell_type": "markdown",
   "metadata": {},
   "source": [
    "### <sup>5</sup> __Number of keys__\n",
    "\n",
    "Write a function that returns the number of keys in a dictionary.\n",
    "\n",
    "+ Prototype: __def number_keys(a_dictionary):__\n",
    "+ You are not allowed to import any module"
   ]
  },
  {
   "cell_type": "code",
   "execution_count": null,
   "metadata": {},
   "outputs": [],
   "source": []
  },
  {
   "cell_type": "markdown",
   "metadata": {},
   "source": [
    "### <sup>6</sup> __Print sorted dictionary__\n",
    "\n",
    "Write a function that prints a dictionary by ordered keys.\n",
    "\n",
    "+ Prototype: __def print_sorted_dictionary(a_dictionary):__\n",
    "+ You can assume that all keys are strings\n",
    "+ Keys should be sorted by alphabetic order\n",
    "+ Only sort keys of the first level (don’t sort keys of a dictionary inside the main dictionary)\n",
    "+ Dictionary values can have any type\n",
    "+ You are not allowed to import any module"
   ]
  },
  {
   "cell_type": "code",
   "execution_count": null,
   "metadata": {},
   "outputs": [],
   "source": []
  },
  {
   "cell_type": "markdown",
   "metadata": {},
   "source": [
    "### <sup>7</sup> __Update dictionary__\n",
    "\n",
    "Write a function that replaces or adds key/value in a dictionary.\n",
    "\n",
    "+ Prototype: __def update_dictionary(a_dictionary, key, value):__\n",
    "+ __key__ argument will be always a string\n",
    "+ __value__ argument will be any type\n",
    "+ If a key exists in the dictionary, the value will be replaced\n",
    "+ If a key doesn’t exist in the dictionary, it will be created\n",
    "+ You are not allowed to import any module"
   ]
  },
  {
   "cell_type": "code",
   "execution_count": null,
   "metadata": {},
   "outputs": [],
   "source": []
  },
  {
   "cell_type": "markdown",
   "metadata": {},
   "source": [
    "### <sup>8</sup> __Simple delete by key__\n",
    "\n",
    "Write a function that deletes a key in a dictionary.\n",
    "\n",
    "+ Prototype: __def simple_delete(a_dictionary, key=\"\"):__\n",
    "+ key argument will be always a string\n",
    "+ If a __key__ doesn’t exist, the dictionary won’t change\n",
    "+ You are not allowed to import any module"
   ]
  },
  {
   "cell_type": "code",
   "execution_count": null,
   "metadata": {},
   "outputs": [],
   "source": []
  },
  {
   "cell_type": "markdown",
   "metadata": {},
   "source": [
    "### <sup>9</sup> __Multiply by 2__\n",
    "\n",
    "Write a function that returns a new dictionary with all values multiplied by 2\n",
    "\n",
    "+ Prototype: __def multiply_by_2(a_dictionary):__\n",
    "+ You can assume that all values are only integers\n",
    "+ Returns a new dictionary\n",
    "+ You are not allowed to import any module"
   ]
  },
  {
   "cell_type": "code",
   "execution_count": null,
   "metadata": {},
   "outputs": [],
   "source": []
  },
  {
   "cell_type": "markdown",
   "metadata": {},
   "source": [
    "### <sup>10</sup> __Best score__\n",
    "\n",
    "Write a function that returns a key with the biggest integer value.\n",
    "\n",
    "+ Prototype: __def best_score(a_dictionary):__\n",
    "+ You can assume that all values are only integers\n",
    "+ If no score found, return None\n",
    "+ You can assume all students have a different score\n",
    "+ You are not allowed to import any module"
   ]
  },
  {
   "cell_type": "code",
   "execution_count": null,
   "metadata": {},
   "outputs": [],
   "source": []
  },
  {
   "cell_type": "markdown",
   "metadata": {},
   "source": [
    "### <sup>11</sup> __Multiply by using map__\n",
    "\n",
    "Write a function that returns a list with all values multiplied by a number without using any loops.\n",
    "\n",
    "+ Prototype: __def multiply_list_map(my_list=[], number=0):__\n",
    "+ Returns a new list:\n",
    "    + Same length as __my_list__\n",
    "    + Each value should be multiplied by __number__\n",
    "+ Initial list should not be modified\n",
    "+ You are not allowed to import any module\n",
    "+ You have to use __map__\n",
    "+ Your file should be max 3 lines"
   ]
  },
  {
   "cell_type": "code",
   "execution_count": null,
   "metadata": {},
   "outputs": [],
   "source": []
  },
  {
   "cell_type": "markdown",
   "metadata": {},
   "source": [
    "### <sup>12</sup> __Roman to Integer__\n",
    "\n",
    "__Technical interview preparation:__\n",
    "\n",
    "+ You are not allowed to google anything\n",
    "+ Whiteboard first\n",
    "\n",
    "Create a function __def roman_to_int(roman_string):__ that converts a [__Roman numeral__](https://intranet.alxswe.com/rltoken/oSuwqUrL0BL_hi4VqVvs_g) to an integer.\n",
    "\n",
    "+ You can assume the number will be between 1 to 3999.\n",
    "+ __def roman_to_int(roman_string)__ must return an integer\n",
    "+ If the __roman_string__ is not a string or __None__, return 0"
   ]
  },
  {
   "cell_type": "code",
   "execution_count": null,
   "metadata": {},
   "outputs": [],
   "source": []
  },
  {
   "cell_type": "markdown",
   "metadata": {},
   "source": [
    "### <sup>13</sup> __Weighted average!__\n",
    "\n",
    "Write a function that returns the weighted average of all integers tuple __(\\<score\\>, \\<weight\\>)__\n",
    "\n",
    "+ Prototype: __def weight_average(my_list=[]):__\n",
    "+ Returns __0__ if the list is empty\n",
    "+ You are not allowed to import any module"
   ]
  },
  {
   "cell_type": "code",
   "execution_count": null,
   "metadata": {},
   "outputs": [],
   "source": []
  },
  {
   "cell_type": "markdown",
   "metadata": {},
   "source": [
    "### <sup>14</sup> __Squared by using map__\n",
    "\n",
    "Write a function that computes the square value of all integers of a matrix using __map__\n",
    "\n",
    "+ Prototype: __def square_matrix_map(matrix=[]):__\n",
    "+ __matrix__ is a 2 dimensional array\n",
    "+ Returns a new matrix:\n",
    "    + Same size as __matrix__\n",
    "    + Each value should be the square of the value of the input\n",
    "+ Initial matrix should not be modified\n",
    "+ You are not allowed to import any module\n",
    "+ You have to use __map__\n",
    "+ You are not allowed to use __for__ or __while__\n",
    "+ Your file should be max 3 lines"
   ]
  },
  {
   "cell_type": "code",
   "execution_count": null,
   "metadata": {},
   "outputs": [],
   "source": []
  },
  {
   "cell_type": "markdown",
   "metadata": {},
   "source": [
    "### <sup>15</sup> __Delete by value__\n",
    "\n",
    "Write a function that deletes keys with a specific value in a dictionary.\n",
    "\n",
    "+ Prototype: __def complex_delete(a_dictionary, value):__\n",
    "+ If the value doesn’t exist, the dictionary won’t change\n",
    "+ All keys having the searched value have to be deleted\n",
    "+ You are not allowed to import any module"
   ]
  },
  {
   "cell_type": "code",
   "execution_count": null,
   "metadata": {},
   "outputs": [],
   "source": []
  }
 ],
 "metadata": {
  "kernelspec": {
   "display_name": "Python 3",
   "language": "python",
   "name": "python3"
  },
  "language_info": {
   "name": "python",
   "version": "3.11.6"
  }
 },
 "nbformat": 4,
 "nbformat_minor": 2
}
