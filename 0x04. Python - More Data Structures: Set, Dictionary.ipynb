{
 "cells": [
  {
   "cell_type": "markdown",
   "metadata": {},
   "source": [
    "# __0x04. Python - More Data Structures: Set, Dictionary__"
   ]
  },
  {
   "cell_type": "markdown",
   "metadata": {},
   "source": [
    "### __Resources__\n",
    "__Read or watch:__\n",
    "\n",
    "+ [__Data structures__](https://intranet.alxswe.com/rltoken/GmgoSUtBbHBW8suWkws51g)\n",
    "+ [__Lambda, filter, reduce and map__](https://intranet.alxswe.com/rltoken/53f4kKVT0-jyzrJstOSJWg)\n",
    "+ [__Learn to Program 12 Lambda Map Filter Reduce__](https://intranet.alxswe.com/rltoken/v9eyFryhkYmxDI13iTx2VA)"
   ]
  },
  {
   "cell_type": "markdown",
   "metadata": {},
   "source": [
    "## __Tasks__"
   ]
  },
  {
   "cell_type": "markdown",
   "metadata": {},
   "source": [
    "### <sup>0</sup> __Squared simple__\n",
    "\n",
    "Write a function that computes the square value of all integers of a matrix.\n",
    "\n",
    "+ Prototype: __def square_matrix_simple(matrix=[]):__\n",
    "+ __matrix__ is a 2 dimensional array\n",
    "    + Returns a new matrix:\n",
    "    + Same size as __matrix__\n",
    "+ Each value should be the square of the value of the input\n",
    "+ Initial matrix should not be modified\n",
    "+ You are not allowed to import any module\n",
    "+ You are allowed to use regular loops, __map__, etc."
   ]
  },
  {
   "cell_type": "code",
   "execution_count": 3,
   "metadata": {},
   "outputs": [
    {
     "data": {
      "text/plain": [
       "[[1, 4, 9], [16, 25, 36], [49, 64, 81]]"
      ]
     },
     "execution_count": 3,
     "metadata": {},
     "output_type": "execute_result"
    }
   ],
   "source": [
    "def square_matrix_simple(matrix=[]):\n",
    "    return [[v*v for v in i] for i in matrix]\n",
    "square_matrix_simple([\n",
    "    [1,2,3],\n",
    "    [4,5,6],\n",
    "    [7,8,9]\n",
    "])"
   ]
  },
  {
   "cell_type": "markdown",
   "metadata": {},
   "source": [
    "### <sup>1</sup> __Search and replace__\n",
    "\n",
    "Write a function that replaces all occurrences of an element by another in a new list.\n",
    "\n",
    "+ Prototype: __def search_replace(my_list, search, replace):__\n",
    "+ __my_list__ is the initial list\n",
    "+ __search__ is the element to replace in the list\n",
    "+ __replace__ is the new element\n",
    "+ You are not allowed to import any module"
   ]
  },
  {
   "cell_type": "code",
   "execution_count": 9,
   "metadata": {},
   "outputs": [
    {
     "data": {
      "text/plain": [
       "[1, 89, 3, 89, 5, 6, 89, 8, 89]"
      ]
     },
     "execution_count": 9,
     "metadata": {},
     "output_type": "execute_result"
    }
   ],
   "source": [
    "def search_replace(my_list, search, replace):\n",
    "    return [replace if i == search else i for i in my_list]\n",
    "search_replace([1,2,3,2,5,6,2,8,89], 2, 89)"
   ]
  },
  {
   "cell_type": "markdown",
   "metadata": {},
   "source": [
    "### <sup>2</sup> __Unique addition__\n",
    "\n",
    "Write a function that adds all unique integers in a list (only once for each integer).\n",
    "\n",
    "+ Prototype: __def uniq_add(my_list=[]):__\n",
    "+ You are not allowed to import any module"
   ]
  },
  {
   "cell_type": "code",
   "execution_count": 14,
   "metadata": {},
   "outputs": [
    {
     "data": {
      "text/plain": [
       "[1, 2, 3, 5, 6]"
      ]
     },
     "execution_count": 14,
     "metadata": {},
     "output_type": "execute_result"
    }
   ],
   "source": [
    "def uniq_add(my_list=[]):\n",
    "    temp=[]\n",
    "    for i in my_list:\n",
    "        if i not in temp:\n",
    "            temp.append(i)\n",
    "    return temp\n",
    "\n",
    "uniq_add([1,2,3,5,1,2,6,3])\n",
    "        \n",
    "    "
   ]
  },
  {
   "cell_type": "markdown",
   "metadata": {},
   "source": [
    "### 4. __Only differents__\n",
    "\n",
    "Write a function that returns a set of all elements present in only one set.\n",
    "\n",
    "Prototype: __def only_diff_elements(set_1, set_2):__\n",
    "You are not allowed to import any module"
   ]
  },
  {
   "cell_type": "code",
   "execution_count": 16,
   "metadata": {},
   "outputs": [
    {
     "data": {
      "text/plain": [
       "{'Bash', 'Javascript', 'Perl', 'Python', 'Ruby'}"
      ]
     },
     "execution_count": 16,
     "metadata": {},
     "output_type": "execute_result"
    }
   ],
   "source": [
    "def only_diff_elements(set_1, set_2):\n",
    "    temp =[]\n",
    "    for i in set_1:\n",
    "        if i not in set_2:\n",
    "           temp.append(i) \n",
    "    for i in set_2:\n",
    "        if i not in set_1:\n",
    "           temp.append(i)\n",
    "    return set(temp)\n",
    "only_diff_elements({\"Python\", \"C\", \"Javascript\"}, {\"Bash\", \"C\", \"Ruby\", \"Perl\"}) \n"
   ]
  },
  {
   "cell_type": "markdown",
   "metadata": {},
   "source": [
    "### <sup>5</sup> __Number of keys__\n",
    "\n",
    "Write a function that returns the number of keys in a dictionary.\n",
    "\n",
    "+ Prototype: __def number_keys(a_dictionary):__\n",
    "+ You are not allowed to import any module"
   ]
  },
  {
   "cell_type": "code",
   "execution_count": 21,
   "metadata": {},
   "outputs": [
    {
     "data": {
      "text/plain": [
       "3"
      ]
     },
     "execution_count": 21,
     "metadata": {},
     "output_type": "execute_result"
    }
   ],
   "source": [
    "def number_keys(a_dictionary):\n",
    "    return list(a_dictionary.keys()).__len__()\n",
    "\n",
    "a_dictionary = { 'language': \"C\", 'number': 13, 'track': \"Low level\" }\n",
    "number_keys(a_dictionary)"
   ]
  },
  {
   "cell_type": "markdown",
   "metadata": {},
   "source": [
    "### <sup>6</sup> __Print sorted dictionary__\n",
    "\n",
    "Write a function that prints a dictionary by ordered keys.\n",
    "\n",
    "+ Prototype: __def print_sorted_dictionary(a_dictionary):__\n",
    "+ You can assume that all keys are strings\n",
    "+ Keys should be sorted by alphabetic order\n",
    "+ Only sort keys of the first level (don’t sort keys of a dictionary inside the main dictionary)\n",
    "+ Dictionary values can have any type\n",
    "+ You are not allowed to import any module"
   ]
  },
  {
   "cell_type": "code",
   "execution_count": 19,
   "metadata": {},
   "outputs": [
    {
     "data": {
      "text/plain": [
       "{'Number': 89, 'ids': [1, 2, 3], 'language': 'C', 'track': 'Low level'}"
      ]
     },
     "execution_count": 19,
     "metadata": {},
     "output_type": "execute_result"
    }
   ],
   "source": [
    "def print_sorted_dictionary(a_dictionary):\n",
    "    temp = list(a_dictionary.keys())\n",
    "    temp.sort()\n",
    "    return {i :a_dictionary[i] for i in temp}\n",
    "\n",
    "a_dictionary = { 'language': \"C\", 'Number': 89, 'track': \"Low level\", 'ids': [1, 2, 3] }\n",
    "print_sorted_dictionary(a_dictionary)"
   ]
  },
  {
   "cell_type": "markdown",
   "metadata": {},
   "source": [
    "### <sup>7</sup> __Update dictionary__\n",
    "\n",
    "Write a function that replaces or adds key/value in a dictionary.\n",
    "\n",
    "+ Prototype: __def update_dictionary(a_dictionary, key, value):__\n",
    "+ __key__ argument will be always a string\n",
    "+ __value__ argument will be any type\n",
    "+ If a key exists in the dictionary, the value will be replaced\n",
    "+ If a key doesn’t exist in the dictionary, it will be created\n",
    "+ You are not allowed to import any module"
   ]
  },
  {
   "cell_type": "code",
   "execution_count": 23,
   "metadata": {},
   "outputs": [
    {
     "name": "stdout",
     "output_type": "stream",
     "text": [
      "{'language': 'Python', 'Number': 89, 'track': 'Low level', 'ids': [1, 2, 3]}\n",
      "{'language': 'Python', 'Number': 89, 'track': 'Low level', 'ids': [1, 2, 3]}\n"
     ]
    }
   ],
   "source": [
    "def update_dictionary(a_dictionary, key, value):\n",
    "    a_dictionary[key] = value\n",
    "    return a_dictionary\n",
    "\n",
    "print(update_dictionary(a_dictionary, 'language', 'Python'))\n",
    "print(a_dictionary)"
   ]
  },
  {
   "cell_type": "markdown",
   "metadata": {},
   "source": [
    "### <sup>8</sup> __Simple delete by key__\n",
    "\n",
    "Write a function that deletes a key in a dictionary.\n",
    "\n",
    "+ Prototype: __def simple_delete(a_dictionary, key=\"\"):__\n",
    "+ key argument will be always a string\n",
    "+ If a __key__ doesn’t exist, the dictionary won’t change\n",
    "+ You are not allowed to import any module"
   ]
  },
  {
   "cell_type": "code",
   "execution_count": 38,
   "metadata": {},
   "outputs": [
    {
     "name": "stdout",
     "output_type": "stream",
     "text": [
      "{'language': 'C', 'Number': 89, 'track': 'Low level', 'ids': [1, 2, 3]}\n",
      "{'Number': 89, 'track': 'Low level', 'ids': [1, 2, 3]}\n",
      "{'Number': 89, 'track': 'Low level', 'ids': [1, 2, 3]}\n"
     ]
    }
   ],
   "source": [
    "def simple_delete(a_dictionary, key=\"\"):\n",
    "    # 1\n",
    "    # a_dictionary.pop(key)\n",
    "\n",
    "    # 2\n",
    "    temp = list(a_dictionary.keys())\n",
    "    temp_dict = a_dictionary.copy()\n",
    "    a_dictionary.clear()\n",
    "    for i in temp:\n",
    "        if i != key:\n",
    "            a_dictionary[i] = temp_dict[i]\n",
    "    \n",
    "    return a_dictionary\n",
    "\n",
    "a_dictionary = { 'language': \"C\", 'Number': 89, 'track': \"Low level\", 'ids': [1, 2, 3] }\n",
    "print(a_dictionary)\n",
    "simple_delete(a_dictionary, 'language')\n",
    "print(a_dictionary)\n",
    "simple_delete(a_dictionary, 'trackl')\n",
    "print(a_dictionary)"
   ]
  },
  {
   "cell_type": "markdown",
   "metadata": {},
   "source": [
    "### <sup>9</sup> __Multiply by 2__\n",
    "\n",
    "Write a function that returns a new dictionary with all values multiplied by 2\n",
    "\n",
    "+ Prototype: __def multiply_by_2(a_dictionary):__\n",
    "+ You can assume that all values are only integers\n",
    "+ Returns a new dictionary\n",
    "+ You are not allowed to import any module"
   ]
  },
  {
   "cell_type": "code",
   "execution_count": 40,
   "metadata": {},
   "outputs": [
    {
     "data": {
      "text/plain": [
       "{'John': 24, 'Alex': 16, 'Bob': 28, 'Mike': 28, 'Molly': 32}"
      ]
     },
     "execution_count": 40,
     "metadata": {},
     "output_type": "execute_result"
    }
   ],
   "source": [
    "def multiply_by_2(a_dictionary):\n",
    "    temp = list(a_dictionary.keys())\n",
    "    return {i: a_dictionary[i]*2 for i in temp}\n",
    "multiply_by_2({'John': 12, 'Alex': 8, 'Bob': 14, 'Mike': 14, 'Molly': 16})"
   ]
  },
  {
   "cell_type": "markdown",
   "metadata": {},
   "source": [
    "### <sup>10</sup> __Best score__\n",
    "\n",
    "Write a function that returns a key with the biggest integer value.\n",
    "\n",
    "+ Prototype: __def best_score(a_dictionary):__\n",
    "+ You can assume that all values are only integers\n",
    "+ If no score found, return None\n",
    "+ You can assume all students have a different score\n",
    "+ You are not allowed to import any module"
   ]
  },
  {
   "cell_type": "code",
   "execution_count": 12,
   "metadata": {},
   "outputs": [
    {
     "name": "stdout",
     "output_type": "stream",
     "text": [
      "None\n"
     ]
    },
    {
     "data": {
      "text/plain": [
       "'Molly'"
      ]
     },
     "execution_count": 12,
     "metadata": {},
     "output_type": "execute_result"
    }
   ],
   "source": [
    "def best_score(a_dictionary):\n",
    "    if a_dictionary == None:\n",
    "        return None\n",
    "    \n",
    "    key = a_dictionary.keys()\n",
    "    temp = 0\n",
    "    for i in key:\n",
    "        if a_dictionary[i] > temp:\n",
    "            temp=a_dictionary[i]\n",
    "    for i in key:\n",
    "        if a_dictionary[i] == temp:\n",
    "            return i\n",
    "\n",
    "a_dictionary = {'John': 12, 'Bob': 14, 'Mike': 14, 'Molly': 16, 'Adam': 10}\n",
    "\n",
    "print(best_score(None))\n",
    "best_score(a_dictionary)"
   ]
  },
  {
   "cell_type": "markdown",
   "metadata": {},
   "source": [
    "### <sup>11</sup> __Multiply by using map__\n",
    "\n",
    "Write a function that returns a list with all values multiplied by a number without using any loops.\n",
    "\n",
    "+ Prototype: __def multiply_list_map(my_list=[], number=0):__\n",
    "+ Returns a new list:\n",
    "    + Same length as __my_list__\n",
    "    + Each value should be multiplied by __number__\n",
    "+ Initial list should not be modified\n",
    "+ You are not allowed to import any module\n",
    "+ You have to use __map__\n",
    "+ Your file should be max 3 lines"
   ]
  },
  {
   "cell_type": "code",
   "execution_count": 13,
   "metadata": {},
   "outputs": [
    {
     "data": {
      "text/plain": [
       "[4, 8, 12, 16, 24]"
      ]
     },
     "execution_count": 13,
     "metadata": {},
     "output_type": "execute_result"
    }
   ],
   "source": [
    "def multiply_list_map(my_list=[], number=0):\n",
    "        return list(map(lambda x: x * number, my_list))\n",
    "my_list = [1, 2, 3, 4, 6]\n",
    "multiply_list_map(my_list, 4)"
   ]
  },
  {
   "cell_type": "markdown",
   "metadata": {},
   "source": [
    "### <sup>12</sup> __Roman to Integer__\n",
    "\n",
    "__Technical interview preparation:__\n",
    "\n",
    "+ You are not allowed to google anything\n",
    "+ Whiteboard first\n",
    "\n",
    "Create a function __def roman_to_int(roman_string):__ that converts a [__Roman numeral__](https://intranet.alxswe.com/rltoken/oSuwqUrL0BL_hi4VqVvs_g) to an integer.\n",
    "\n",
    "+ You can assume the number will be between 1 to 3999.\n",
    "+ __def roman_to_int(roman_string)__ must return an integer\n",
    "+ If the __roman_string__ is not a string or __None__, return 0"
   ]
  },
  {
   "cell_type": "code",
   "execution_count": 144,
   "metadata": {},
   "outputs": [
    {
     "name": "stdout",
     "output_type": "stream",
     "text": [
      "23\n"
     ]
    }
   ],
   "source": [
    "def roman_to_int(roman_string):\n",
    "    numerals ={\n",
    "        'I': 1,\n",
    "        'V': 5,\n",
    "        'X': 10,\n",
    "        'L': 50,\n",
    "        'C': 100,\n",
    "        'D': 500,\n",
    "        'M': 1000\n",
    "    }\n",
    "    num = numerals[roman_string[-1]]\n",
    "    for i in range(2, len(roman_string)+1):\n",
    "\n",
    "        if numerals[roman_string[-i+1]] == numerals[roman_string[-i]]:\n",
    "            num += numerals[roman_string[-i]]\n",
    "        elif num > numerals[roman_string[-i]]:\n",
    "            num -= numerals[roman_string[-i]]\n",
    "        elif num <= numerals[roman_string[-i]]:\n",
    "            num += numerals[roman_string[-i]]\n",
    "    return num\n",
    "\n",
    "print(roman_to_int('XXIII'))\n",
    "# print(roman_to_int('XXVI'))\n",
    "# print(roman_to_int('XXXI'))\n",
    "# print(roman_to_int('X'))\n",
    "# print(roman_to_int('XL'))\n",
    "# print(roman_to_int('L'))\n",
    "# print(roman_to_int('CI'))\n",
    "# print(roman_to_int('XC'))\n",
    "# print(roman_to_int('CM'))"
   ]
  },
  {
   "cell_type": "markdown",
   "metadata": {},
   "source": [
    "### <sup>13</sup> __Weighted average!__\n",
    "\n",
    "Write a function that returns the weighted average of all integers tuple __(\\<score\\>, \\<weight\\>)__\n",
    "\n",
    "+ Prototype: __def weight_average(my_list=[]):__\n",
    "+ Returns __0__ if the list is empty\n",
    "+ You are not allowed to import any module"
   ]
  },
  {
   "cell_type": "code",
   "execution_count": 139,
   "metadata": {},
   "outputs": [
    {
     "name": "stdout",
     "output_type": "stream",
     "text": [
      "0\n",
      "2.8\n"
     ]
    }
   ],
   "source": [
    "def weight_average(my_list=[]):\n",
    "    total = 0\n",
    "    denominator = 0\n",
    "    if not my_list:\n",
    "        return 0\n",
    "    for i in my_list:\n",
    "        mul = i[0] * i[-1]\n",
    "        total+=mul\n",
    "        denominator+=i[-1]\n",
    "\n",
    "    return total/denominator\n",
    "\n",
    "\n",
    "my_list = [(1, 2), (2, 1), (3, 10), (4, 2)]\n",
    "print(weight_average())\n",
    "print(weight_average(my_list))\n"
   ]
  },
  {
   "cell_type": "markdown",
   "metadata": {},
   "source": [
    "### <sup>14</sup> __Squared by using map__\n",
    "\n",
    "Write a function that computes the square value of all integers of a matrix using __map__\n",
    "\n",
    "+ Prototype: __def square_matrix_map(matrix=[]):__\n",
    "+ __matrix__ is a 2 dimensional array\n",
    "+ Returns a new matrix:\n",
    "    + Same size as __matrix__\n",
    "    + Each value should be the square of the value of the input\n",
    "+ Initial matrix should not be modified\n",
    "+ You are not allowed to import any module\n",
    "+ You have to use __map__\n",
    "+ You are not allowed to use __for__ or __while__\n",
    "+ Your file should be max 3 lines"
   ]
  },
  {
   "cell_type": "code",
   "execution_count": 145,
   "metadata": {},
   "outputs": [
    {
     "data": {
      "text/plain": [
       "[[1, 4, 9], [16, 25, 36], [49, 64, 81]]"
      ]
     },
     "execution_count": 145,
     "metadata": {},
     "output_type": "execute_result"
    }
   ],
   "source": [
    "def square_matrix_map(matrix=[]):\n",
    "    temp = []\n",
    "    for i in matrix:\n",
    "        temp.append(list(map(lambda x: x*x, i)))\n",
    "    return temp\n",
    "matrix = [\n",
    "    [1,2,3],\n",
    "    [4,5,6],\n",
    "    [7,8,9]\n",
    "]\n",
    "square_matrix_map(matrix)"
   ]
  },
  {
   "cell_type": "markdown",
   "metadata": {},
   "source": [
    "### <sup>15</sup> __Delete by value__\n",
    "\n",
    "Write a function that deletes keys with a specific value in a dictionary.\n",
    "\n",
    "+ Prototype: __def complex_delete(a_dictionary, value):__\n",
    "+ If the value doesn’t exist, the dictionary won’t change\n",
    "+ All keys having the searched value have to be deleted\n",
    "+ You are not allowed to import any module"
   ]
  },
  {
   "cell_type": "code",
   "execution_count": 156,
   "metadata": {},
   "outputs": [
    {
     "data": {
      "text/plain": [
       "{'track': 'Low', 'ids': [1, 2, 3]}"
      ]
     },
     "execution_count": 156,
     "metadata": {},
     "output_type": "execute_result"
    }
   ],
   "source": [
    "def complex_delete(a_dictionary, value):\n",
    "    while value in a_dictionary.values():\n",
    "        for i in a_dictionary.keys():\n",
    "            if a_dictionary.get(i) == value:\n",
    "                a_dictionary.pop(i)\n",
    "                break\n",
    "a_dictionary = {'lang': \"C\", 'track': \"Low\", 'pref': \"C\", 'ids': [1, 2, 3]}\n",
    "complex_delete(a_dictionary, 'C')\n",
    "a_dictionary\n"
   ]
  }
 ],
 "metadata": {
  "kernelspec": {
   "display_name": "Python 3",
   "language": "python",
   "name": "python3"
  },
  "language_info": {
   "codemirror_mode": {
    "name": "ipython",
    "version": 3
   },
   "file_extension": ".py",
   "mimetype": "text/x-python",
   "name": "python",
   "nbconvert_exporter": "python",
   "pygments_lexer": "ipython3",
   "version": "3.11.7"
  }
 },
 "nbformat": 4,
 "nbformat_minor": 2
}
