{
 "cells": [
  {
   "cell_type": "markdown",
   "metadata": {},
   "source": [
    "# 0x05. __Python - Exceptions__\n"
   ]
  },
  {
   "cell_type": "markdown",
   "metadata": {},
   "source": [
    "### __Resources__\n",
    "\n",
    "__Read or watch:__\n",
    "\n",
    "+ [__Errors and Exceptions__](https://intranet.alxswe.com/rltoken/Yj7sDOzmKwICSHr7WEAW3A)\n",
    "+ [__Learn to Program 11 Static & Exception Handling__](https://intranet.alxswe.com/rltoken/xASzXarhF1sBhzYkJ14LvQ) (_starting at minute 7_)"
   ]
  },
  {
   "cell_type": "markdown",
   "metadata": {},
   "source": [
    "## __Tasks__"
   ]
  },
  {
   "cell_type": "markdown",
   "metadata": {},
   "source": [
    "### <sup>0</sup> __Safe list printing__\n",
    "\n",
    "Write a function that prints __x__ elements of a list.\n",
    "\n",
    "+ Prototype: __def safe_print_list(my_list=[], x=0):__\n",
    "+ __my_list__ can contain any type (integer, string, etc.)\n",
    "+ All elements must be printed on the same line followed by a new line.\n",
    "+ __x__ represents the number of elements to print\n",
    "+ __x__ can be bigger than the length of __my_list__\n",
    "+ Returns the real number of elements printed\n",
    "+ You have to use __try: / except:__\n",
    "+ You are not allowed to import any module\n",
    "+ You are not allowed to use __len()__"
   ]
  },
  {
   "cell_type": "code",
   "execution_count": 9,
   "metadata": {},
   "outputs": [
    {
     "name": "stdout",
     "output_type": "stream",
     "text": [
      "123456\n"
     ]
    }
   ],
   "source": [
    "def safe_print_list(my_list=[], x=0):\n",
    "    try:\n",
    "        for i in range(x):\n",
    "            print(my_list[i], end=\"\")\n",
    "        print()\n",
    "    except:\n",
    "        print()\n",
    "\n",
    "safe_print_list([1,2,3,4,5,6], 7)"
   ]
  },
  {
   "cell_type": "markdown",
   "metadata": {},
   "source": [
    "### <sup>1</sup> __Safe printing of an integers list__\n",
    "\n",
    "Write a function that prints an integer with __\"{:d}\".format()__.\n",
    "\n",
    "+ Prototype: __def safe_print_integer(value):__\n",
    "+ __value__ can be any type (integer, string, etc.)\n",
    "+ The integer should be printed followed by a new line\n",
    "+ Returns __True__ if __value__ has been correctly printed (it means the __value__ is an integer)\n",
    "+ Otherwise, returns __False__\n",
    "+ You have to use __try: / except:__\n",
    "+ You have to use __\"{:d}\".format()__ to print as integer\n",
    "+ You are not allowed to import any module\n",
    "+ You are not allowed to use __type()__"
   ]
  },
  {
   "cell_type": "code",
   "execution_count": 19,
   "metadata": {},
   "outputs": [
    {
     "name": "stdout",
     "output_type": "stream",
     "text": [
      "school is not an integer\n"
     ]
    }
   ],
   "source": [
    "def safe_print_integer(value):\n",
    "    try:\n",
    "        print(\"{:d}\".format(value))\n",
    "        return True\n",
    "    except:\n",
    "        return False\n",
    "\n",
    "value = \"school\"\n",
    "# value = 89\n",
    "has_been_print = safe_print_integer(value)\n",
    "if not has_been_print:\n",
    "    print(\"{} is not an integer\".format(value))"
   ]
  },
  {
   "cell_type": "markdown",
   "metadata": {},
   "source": [
    "### <sup>2</sup> __Print and count integers__\n",
    "\n",
    "Write a function that prints the first x elements of a list and only integers.\n",
    "\n",
    "+ Prototype: __def safe_print_list_integers(my_list=[], x=0):__\n",
    "+ __my_list__ can contain any type (integer, string, etc.)\n",
    "+ All integers have to be printed on the same line followed by a new line - other type of value in the list must be skipped (in silence).\n",
    "+ __x__ represents the number of elements to access in __my_list__\n",
    "+ __x__ can be bigger than the length of __my_list__ - if it’s the case, an exception is expected to occur\n",
    "+ Returns the real number of integers printed\n",
    "+ You have to use __try: / except:__\n",
    "+ You have to use __\"{:d}\".format()__ to print an integer\n",
    "+ You are not allowed to import any module\n",
    "+ You are not allowed to use __len()__"
   ]
  },
  {
   "cell_type": "code",
   "execution_count": null,
   "metadata": {},
   "outputs": [],
   "source": [
    "    "
   ]
  },
  {
   "cell_type": "markdown",
   "metadata": {},
   "source": [
    "### <sup>3</sup> __Integers division with debug__\n",
    "\n",
    "Write a function that divides 2 integers and prints the result.\n",
    "\n",
    "+ Prototype: __def safe_print_division(a, b):__\n",
    "+ You can assume that __a__ and __b__ are integers\n",
    "+ The result of the division should print on the __finally:__ section preceded by __Inside result:__\n",
    "+ Returns the value of the division, otherwise: __None__\n",
    "+ You have to use __try: / except: / finally:__\n",
    "+ You have to use __\"{}\".format()__ to print the result\n",
    "+ You are not allowed to import any module"
   ]
  },
  {
   "cell_type": "code",
   "execution_count": 45,
   "metadata": {},
   "outputs": [
    {
     "name": "stdout",
     "output_type": "stream",
     "text": [
      "inside result: None\n",
      "12 / 0 = None\n"
     ]
    }
   ],
   "source": [
    "def safe_print_division(a, b):\n",
    "    try:\n",
    "        c = a/b\n",
    "        return c\n",
    "    except ZeroDivisionError:\n",
    "        c = None\n",
    "        return None\n",
    "    finally:\n",
    "        print(\"inside result: {}\".format(c))\n",
    "\n",
    "a = 12\n",
    "b = 0\n",
    "result = safe_print_division(a, b)\n",
    "print(\"{:d} / {:d} = {}\".format(a, b, result))"
   ]
  },
  {
   "cell_type": "markdown",
   "metadata": {},
   "source": [
    "### <sup>4</sup> __Divide a list__\n",
    "\n",
    "Write a function that divides element by element 2 lists.\n",
    "\n",
    "+ Prototype: __def list_division(my_list_1, my_list_2, list_length):__\n",
    "+ __my_list_1__ and __my_list_2__ can contain any type (integer, string, etc.)\n",
    "+ __list_length__ can be bigger than the length of both lists\n",
    "+ Returns a new list (length = __list_length__) with all divisions\n",
    "+ If 2 elements can’t be divided, the division result should be equal to __0__\n",
    "+ If an element is not an integer or float:\n",
    "    + print: __wrong type__\n",
    "+ If the division can’t be done (__/0__):\n",
    "    + print: __division by 0__\n",
    "+ If __my_list_1__ or __my_list_2__ is too short\n",
    "    + print: __out of range__\n",
    "+ You have to use __try: / except: / finally:__\n",
    "+ You are not allowed to import any module"
   ]
  },
  {
   "cell_type": "code",
   "execution_count": null,
   "metadata": {},
   "outputs": [],
   "source": []
  }
 ],
 "metadata": {
  "kernelspec": {
   "display_name": "Python 3",
   "language": "python",
   "name": "python3"
  },
  "language_info": {
   "codemirror_mode": {
    "name": "ipython",
    "version": 3
   },
   "file_extension": ".py",
   "mimetype": "text/x-python",
   "name": "python",
   "nbconvert_exporter": "python",
   "pygments_lexer": "ipython3",
   "version": "3.11.7"
  }
 },
 "nbformat": 4,
 "nbformat_minor": 2
}
